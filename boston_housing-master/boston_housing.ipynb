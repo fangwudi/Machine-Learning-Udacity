{
 "cells": [
  {
   "cell_type": "markdown",
   "metadata": {},
   "source": [
    "# 机器学习工程师纳米学位\n",
    "## 模型评价与验证\n",
    "## 项目 1: 预测波士顿房价\n",
    "\n",
    "\n",
    "欢迎来到机器学习工程师纳米学位的第一个项目！在此文件中，有些示例代码已经提供给你，但你还需要实现更多的功能来让项目成功运行。除非有明确要求，你无须修改任何已给出的代码。以**'练习'**开始的标题表示接下来的内容中有需要你必须实现的功能。每一部分都会有详细的指导，需要实现的部分也会在注释中以**'TODO'**标出。请仔细阅读所有的提示！\n",
    "\n",
    "除了实现代码外，你还**必须**回答一些与项目和实现有关的问题。每一个需要你回答的问题都会以**'问题 X'**为标题。请仔细阅读每个问题，并且在问题后的**'回答'**文字框中写出完整的答案。你的项目将会根据你对问题的回答和撰写代码所实现的功能来进行评分。\n",
    "\n",
    ">**提示：**Code 和 Markdown 区域可通过 **Shift + Enter** 快捷键运行。此外，Markdown可以通过双击进入编辑模式。"
   ]
  },
  {
   "cell_type": "markdown",
   "metadata": {},
   "source": [
    "## 开始\n",
    "在这个项目中，你将利用马萨诸塞州波士顿郊区的房屋信息数据训练和测试一个模型，并对模型的性能和预测能力进行测试。通过该数据训练后的好的模型可以被用来对房屋做特定预测---尤其是对房屋的价值。对于房地产经纪等人的日常工作来说，这样的预测模型被证明非常有价值。\n",
    "\n",
    "此项目的数据集来自[UCI机器学习知识库](https://archive.ics.uci.edu/ml/datasets/Housing)。波士顿房屋这些数据于1978年开始统计，共506个数据点，涵盖了麻省波士顿不同郊区房屋14种特征的信息。本项目对原始数据集做了以下处理：\n",
    "- 有16个`'MEDV'` 值为50.0的数据点被移除。 这很可能是由于这些数据点包含**遗失**或**看不到的值**。\n",
    "- 有1个数据点的 `'RM'` 值为8.78. 这是一个异常值，已经被移除。\n",
    "- 对于本项目，房屋的`'RM'`， `'LSTAT'`，`'PTRATIO'`以及`'MEDV'`特征是必要的，其余不相关特征已经被移除。\n",
    "- `'MEDV'`特征的值已经过必要的数学转换，可以反映35年来市场的通货膨胀效应。\n",
    "\n",
    "运行下面区域的代码以载入波士顿房屋数据集，以及一些此项目所需的Python库。如果成功返回数据集的大小，表示数据集已载入成功。"
   ]
  },
  {
   "cell_type": "code",
   "execution_count": 36,
   "metadata": {},
   "outputs": [
    {
     "name": "stdout",
     "output_type": "stream",
     "text": [
      "Boston housing dataset has 489 data points with 4 variables each.\n"
     ]
    }
   ],
   "source": [
    "# Import libraries necessary for this project\n",
    "# 载入此项目所需要的库\n",
    "import numpy as np\n",
    "import pandas as pd\n",
    "import visuals as vs # Supplementary code\n",
    "from sklearn.model_selection import ShuffleSplit\n",
    "\n",
    "# Pretty display for notebooks\n",
    "# 让结果在notebook中显示\n",
    "%matplotlib inline\n",
    "\n",
    "# Load the Boston housing dataset\n",
    "# 载入波士顿房屋的数据集\n",
    "data = pd.read_csv('housing.csv')\n",
    "prices = data['MEDV']\n",
    "features = data.drop('MEDV', axis = 1)\n",
    "    \n",
    "# Success\n",
    "# 完成\n",
    "print \"Boston housing dataset has {} data points with {} variables each.\".format(*data.shape)"
   ]
  },
  {
   "cell_type": "markdown",
   "metadata": {},
   "source": [
    "## 分析数据\n",
    "在项目的第一个部分，你会对波士顿房地产数据进行初步的观察并给出你的分析。通过对数据的探索来熟悉数据可以让你更好地理解和解释你的结果。\n",
    "\n",
    "由于这个项目的最终目标是建立一个预测房屋价值的模型，我们需要将数据集分为**特征(features)**和**目标变量(target variable)**。**特征** `'RM'`， `'LSTAT'`，和 `'PTRATIO'`，给我们提供了每个数据点的数量相关的信息。**目标变量**：` 'MEDV'`，是我们希望预测的变量。他们分别被存在`features`和`prices`两个变量名中。"
   ]
  },
  {
   "cell_type": "markdown",
   "metadata": {},
   "source": [
    "## 练习：基础统计运算\n",
    "你的第一个编程练习是计算有关波士顿房价的描述统计数据。我们已为你导入了` numpy `，你需要使用这个库来执行必要的计算。这些统计数据对于分析模型的预测结果非常重要的。\n",
    "在下面的代码中，你要做的是：\n",
    "- 计算`prices`中的`'MEDV'`的最小值、最大值、均值、中值和标准差；\n",
    "- 将运算结果储存在相应的变量中。"
   ]
  },
  {
   "cell_type": "code",
   "execution_count": 37,
   "metadata": {},
   "outputs": [
    {
     "name": "stdout",
     "output_type": "stream",
     "text": [
      "Statistics for Boston housing dataset:\n",
      "\n",
      "Minimum price: $105,000.00\n",
      "Maximum price: $1,024,800.00\n",
      "Mean price: $454,342.94\n",
      "Median price $438,900.00\n",
      "Standard deviation of prices: $165,171.13\n"
     ]
    }
   ],
   "source": [
    "# TODO: Minimum price of the data\n",
    "#目标：计算价值的最小值\n",
    "minimum_price = np.min(prices)\n",
    "\n",
    "# TODO: Maximum price of the data\n",
    "#目标：计算价值的最大值\n",
    "maximum_price = np.max(prices)\n",
    "\n",
    "# TODO: Mean price of the data\n",
    "#目标：计算价值的平均值\n",
    "mean_price = np.mean(prices)\n",
    "\n",
    "# TODO: Median price of the data\n",
    "#目标：计算价值的中值\n",
    "median_price = np.median(prices)\n",
    "\n",
    "# TODO: Standard deviation of prices of the data\n",
    "#目标：计算价值的标准差\n",
    "std_price = np.std(prices)\n",
    "\n",
    "# Show the calculated statistics\n",
    "#目标：输出计算的结果\n",
    "print \"Statistics for Boston housing dataset:\\n\"\n",
    "print \"Minimum price: ${:,.2f}\".format(minimum_price)\n",
    "print \"Maximum price: ${:,.2f}\".format(maximum_price)\n",
    "print \"Mean price: ${:,.2f}\".format(mean_price)\n",
    "print \"Median price ${:,.2f}\".format(median_price)\n",
    "print \"Standard deviation of prices: ${:,.2f}\".format(std_price)"
   ]
  },
  {
   "cell_type": "markdown",
   "metadata": {},
   "source": [
    "### 问题1 - 特征观察\n",
    "\n",
    "如前文所述，本项目中我们关注的是其中三个值:`'RM'`、`'LSTAT'` 和`'PTRATIO'`，对每一个数据点:\n",
    "- `'RM'` 是该地区中每个房屋的平均房间数量；\n",
    "- `'LSTAT'` 是指该地区有多少百分比的房东属于是低收入阶层（有工作但收入微薄）；\n",
    "- `'PTRATIO'` 是该地区的中学和小学里，学生和老师的数目比（`学生/老师`）。\n",
    "\n",
    "_凭直觉，上述三个特征中对每一个来说，你认为增大该特征的数值，`'MEDV'`的值会是**增大**还是**减小**呢？每一个答案都需要你给出理由。_\n",
    "\n",
    "**提示：**你预期一个`'RM'` 值是6的房屋跟`'RM'` 值是7的房屋相比，价值更高还是更低呢？"
   ]
  },
  {
   "cell_type": "markdown",
   "metadata": {},
   "source": [
    "**回答: 凭直觉，‘RM’增大，房间数量多，房屋总价值更高，‘MEDV’会增大;‘LSTAT’增大，该地区低收入阶层比较多，需求比较低，周围环境较差，故房屋价值较低，‘MEDV’会减小;‘PTRATI0’增大，学生相对老师数量更多，教育资源不足，所以‘MEDV’会减小**"
   ]
  },
  {
   "cell_type": "markdown",
   "metadata": {},
   "source": [
    "## 建模\n",
    "在项目的第二部分中，你需要了解必要的工具和技巧来让你的模型进行预测。用这些工具和技巧对每一个模型的表现做精确的衡量可以极大地增强你预测的信心。"
   ]
  },
  {
   "cell_type": "markdown",
   "metadata": {},
   "source": [
    "### 练习：定义衡量标准\n",
    "如果不能对模型的训练和测试的表现进行量化地评估，我们就很难衡量模型的好坏。通常我们会定义一些衡量标准，这些标准可以通过对某些误差或者拟合程度的计算来得到。在这个项目中，你将通过运算[*决定系数*](http://stattrek.com/statistics/dictionary.aspx?definition=coefficient_of_determination) R<sup>2</sup> 来量化模型的表现。模型的决定系数是回归分析中十分常用的统计信息，经常被当作衡量模型预测能力好坏的标准。\n",
    "\n",
    "R<sup>2</sup>的数值范围从0至1，表示**目标变量**的预测值和实际值之间的相关程度平方的百分比。一个模型的R<sup>2</sup> 值为0还不如直接用**平均值**来预测效果好；而一个R<sup>2</sup> 值为1的模型则可以对目标变量进行完美的预测。从0至1之间的数值，则表示该模型中目标变量中有百分之多少能够用**特征**来解释。_模型也可能出现负值的R<sup>2</sup>，这种情况下模型所做预测有时会比直接计算目标变量的平均值差很多。_\n",
    "\n",
    "在下方代码的 `performance_metric` 函数中，你要实现：\n",
    "- 使用 `sklearn.metrics` 中的 `r2_score` 来计算 `y_true` 和 `y_predict`的R<sup>2</sup>值，作为对其表现的评判。\n",
    "- 将他们的表现评分储存到`score`变量中。"
   ]
  },
  {
   "cell_type": "code",
   "execution_count": 38,
   "metadata": {
    "collapsed": true
   },
   "outputs": [],
   "source": [
    "# TODO: Import 'r2_score'\n",
    "from sklearn.metrics import r2_score\n",
    "def performance_metric(y_true, y_predict):\n",
    "    \"\"\" Calculates and returns the performance score between \n",
    "        true and predicted values based on the metric chosen. \"\"\"\n",
    "    \n",
    "    # TODO: Calculate the performance score between 'y_true' and 'y_predict'\n",
    "    score = r2_score(y_true, y_predict)\n",
    "    \n",
    "    # Return the score\n",
    "    return score"
   ]
  },
  {
   "cell_type": "markdown",
   "metadata": {},
   "source": [
    "### 问题2 - 拟合程度\n",
    "\n",
    "假设一个数据集有五个数据且一个模型做出下列目标变量的预测：\n",
    "\n",
    "| 真实数值 | 预测数值 |\n",
    "| :-------------: | :--------: |\n",
    "| 3.0 | 2.5 |\n",
    "| -0.5 | 0.0 |\n",
    "| 2.0 | 2.1 |\n",
    "| 7.0 | 7.8 |\n",
    "| 4.2 | 5.3 |\n",
    "*你觉得这个模型已成功地描述了目标变量的变化吗？如果成功，请解释为什么，如果没有，也请给出原因。*  \n",
    "\n",
    "运行下方的代码，使用`performance_metric`函数来计算模型的决定系数。"
   ]
  },
  {
   "cell_type": "code",
   "execution_count": 8,
   "metadata": {},
   "outputs": [
    {
     "name": "stdout",
     "output_type": "stream",
     "text": [
      "Model has a coefficient of determination, R^2, of 0.923.\n"
     ]
    }
   ],
   "source": [
    "# Calculate the performance of this model\n",
    "score = performance_metric([3, -0.5, 2, 7, 4.2], [2.5, 0.0, 2.1, 7.8, 5.3])\n",
    "print \"Model has a coefficient of determination, R^2, of {:.3f}.\".format(score)"
   ]
  },
  {
   "cell_type": "markdown",
   "metadata": {},
   "source": [
    "**回答:是的。因为R^2 较为接近1。**"
   ]
  },
  {
   "cell_type": "markdown",
   "metadata": {},
   "source": [
    "### 练习: 数据分割与重排\n",
    "接下来，你需要把波士顿房屋数据集分成训练和测试两个子集。通常在这个过程中，数据也会被重新排序，以消除数据集中由于排序而产生的偏差。\n",
    "在下面的代码中，你需要：\n",
    "- 使用 `sklearn.model_selection` 中的 `train_test_split`， 将`features`和`prices`的数据都分成用于训练的数据子集和用于测试的数据子集。\n",
    "  - 分割比例为：80%的数据用于训练，20%用于测试；\n",
    "  - 选定一个数值以设定 `train_test_split` 中的 `random_state` ，这会确保结果的一致性；\n",
    "- 最终分离出的子集为`X_train`,`X_test`,`y_train`,和`y_test`。"
   ]
  },
  {
   "cell_type": "code",
   "execution_count": 39,
   "metadata": {},
   "outputs": [
    {
     "name": "stdout",
     "output_type": "stream",
     "text": [
      "Training and testing split was successful.\n"
     ]
    }
   ],
   "source": [
    "# TODO: Import 'train_test_split'\n",
    "from sklearn.model_selection import train_test_split\n",
    "\n",
    "# TODO: Shuffle and split the data into training and testing subsets\n",
    "X_train, X_test, y_train, y_test = train_test_split(features, prices, test_size = 0.2, random_state = 0)\n",
    "\n",
    "# Success\n",
    "print \"Training and testing split was successful.\""
   ]
  },
  {
   "cell_type": "markdown",
   "metadata": {},
   "source": [
    "### 问题 3- 训练及测试\n",
    "*将数据集按一定比例分为训练用的数据集和测试用的数据集对学习算法有什么好处？如果用模型已经见过的数据，例如部分训练集数据进行测试，又有什么坏处？*\n",
    "\n",
    "**提示：** 如果没有数据来对模型进行测试，会出现什么问题？"
   ]
  },
  {
   "cell_type": "markdown",
   "metadata": {},
   "source": [
    "**答案:如果没有数据来对模型进行测试，无法验证训练出的模型的好坏，比如查准率和查全率等。而如果用模型已经见过的数据，例如部分训练集数据进行测试，可能使得测试结果偏好，无法预估模型面临总体样本时的性能。 **"
   ]
  },
  {
   "cell_type": "markdown",
   "metadata": {},
   "source": [
    "----\n",
    "\n",
    "## 分析模型的表现\n",
    "在项目的第三部分，我们来看一下几个模型针对不同的数据集在学习和测试上的表现。另外，你需要专注于一个特定的算法，用全部训练集训练时，提高它的`'max_depth'` 参数，观察这一参数的变化如何影响模型的表现。把你模型的表现画出来对于分析过程十分有益。可视化可以让我们看到一些单看结果看不到的行为。"
   ]
  },
  {
   "cell_type": "markdown",
   "metadata": {},
   "source": [
    "### 学习曲线\n",
    "下方区域内的代码会输出四幅图像，它们是一个决策树模型在不同最大深度下的表现。每一条曲线都直观的显示了随着训练数据量的增加，模型学习曲线的训练评分和测试评分的变化。注意，曲线的阴影区域代表的是该曲线的不确定性（用标准差衡量）。这个模型的训练和测试部分都使用决定系数R<sup>2</sup>来评分。\n",
    "\n",
    "运行下方区域中的代码，并利用输出的图形回答下面的问题。"
   ]
  },
  {
   "cell_type": "code",
   "execution_count": 11,
   "metadata": {
    "scrolled": false
   },
   "outputs": [
    {
     "data": {
      "image/png": "[encoded data removed]",
      "text/plain": [
       "<matplotlib.figure.Figure at 0x7fbcb2a99910>"
      ]
     },
     "metadata": {},
     "output_type": "display_data"
    }
   ],
   "source": [
    "# Produce learning curves for varying training set sizes and maximum depths\n",
    "vs.ModelLearning(features, prices)"
   ]
  },
  {
   "cell_type": "markdown",
   "metadata": {},
   "source": [
    "### 问题 4 - 学习数据\n",
    "*选择上述图像中的其中一个，并给出其最大深度。随着训练数据量的增加，训练曲线的评分有怎样的变化？测试曲线呢？如果有更多的训练数据，是否能有效提升模型的表现呢？*\n",
    "**提示：**学习曲线的评分是否最终会收敛到特定的值？"
   ]
  },
  {
   "cell_type": "markdown",
   "metadata": {},
   "source": [
    "**答案:以第二幅图为例，最大深度为3。随训练数据量的增加，训练曲线评分缓慢下降，测试曲线评分缓慢上升。如果有更多的训练数据，无法再有效提升模型的表现，因为两条学习曲线的评分都逐渐收敛。 **"
   ]
  },
  {
   "cell_type": "markdown",
   "metadata": {},
   "source": [
    "### 复杂度曲线\n",
    "下列代码内的区域会输出一幅图像，它展示了一个已经经过训练和验证的决策树模型在不同最大深度条件下的表现。这个图形将包含两条曲线，一个是训练的变化，一个是测试的变化。跟**学习曲线**相似，阴影区域代表该曲线的不确定性，模型训练和测试部分的评分都用的 `performance_metric` 函数。\n",
    "\n",
    "运行下方区域中的代码，并利用输出的图形并回答下面的两个问题。"
   ]
  },
  {
   "cell_type": "code",
   "execution_count": 12,
   "metadata": {},
   "outputs": [
    {
     "data": {
      "image/png": "[encoded data removed]",
      "text/plain": [
       "<matplotlib.figure.Figure at 0x7fbcb6098b10>"
      ]
     },
     "metadata": {},
     "output_type": "display_data"
    }
   ],
   "source": [
    "vs.ModelComplexity(X_train, y_train)"
   ]
  },
  {
   "cell_type": "markdown",
   "metadata": {},
   "source": [
    "### 问题 5- 偏差与方差之间的权衡取舍\n",
    "*当模型以最大深度 1训练时，模型的预测是出现很大的偏差还是出现了很大的方差？当模型以最大深度10训练时，情形又如何呢？图形中的哪些特征能够支持你的结论？*\n",
    "  \n",
    "**提示：** 你如何得知模型是否出现了偏差很大或者方差很大的问题？"
   ]
  },
  {
   "cell_type": "markdown",
   "metadata": {},
   "source": [
    "**答案: 模型以最大深度1训练时，模型的预测时出现了很大的偏差，因为训练和测试曲线的得分都不超过0.5。模型以最大深度10训练时，模型的预测出现稍大的方差，因为测试曲线的阴影区变大，即不确定性变大。**"
   ]
  },
  {
   "cell_type": "markdown",
   "metadata": {},
   "source": [
    "### 问题 6- 最优模型的猜测\n",
    "*你认为最大深度是多少的模型能够最好地对未见过的数据进行预测？你得出这个答案的依据是什么？*"
   ]
  },
  {
   "cell_type": "markdown",
   "metadata": {},
   "source": [
    "**答案:我认为时最大深度为4时的模型能够最好地对未见过的数据进行预测。因为此时测试曲线得分为最高。深度过大会使得模型产生对训练数据的过拟合，而对未见过的数据反而无法更好预测。 **"
   ]
  },
  {
   "cell_type": "markdown",
   "metadata": {},
   "source": [
    "-----\n",
    "\n",
    "## 评价模型表现\n",
    "在这个项目的最后，你将自己建立模型，并使用最优化的`fit_model`函数，基于客户房子的特征来预测该房屋的价值。"
   ]
  },
  {
   "cell_type": "markdown",
   "metadata": {},
   "source": [
    "### 问题 7- 网格搜索（Grid Search）\n",
    "*什么是网格搜索法？如何用它来优化学习算法？*\n"
   ]
  },
  {
   "cell_type": "markdown",
   "metadata": {},
   "source": [
    "**回答: 网格搜索法用于系统地遍历多种参数组合，通过交叉验证确定最佳效果参数。对于学习算法，一般需设置参数，而我们事先不知道取多少为最优，故先设置参数字典以及他们可取的值，再将各组合均用于训练，并使用交叉验证对表现进行评估，最后得到有最佳参数组合的学习算法。**"
   ]
  },
  {
   "cell_type": "markdown",
   "metadata": {},
   "source": [
    "### 问题 8- 交叉验证\n",
    "*什么是K折交叉验证法（k-fold cross-validation）？优化模型时，使用这种方法对网格搜索有什么好处？网格搜索是如何结合交叉验证来完成对最佳参数组合的选择的？网格搜索时如果不使用交叉验证会有什么问题？GridSearchCV中的[`'cv_results'`](http://scikit-learn.org/stable/modules/generated/sklearn.model_selection.GridSearchCV.html)属性能告诉我们什么？* \n",
    "\n",
    "**提示：** 在下面 fit_model函数最后加入 `print pd.DataFrame(grid.cv_results_)` 可以帮你查看更多。"
   ]
  },
  {
   "cell_type": "markdown",
   "metadata": {},
   "source": [
    "**答案: K折交叉验证法将数据集分成k个子集，每个子集均做一次测试集，其余的作为训练集。也就是说交叉验证重复k次，并将k次的平均交叉验证识别率作为结果。优化模型时，使用交叉验证多次取平均的方法可以较好地评估模型泛化能力（因为降低了模型在一次数据分割中性能表现上的方差），这样有利于网格搜索得到最佳模型组合参数。网格搜索根据你给定的模型参数自动进行交叉验证，通过调节每一个参数来跟踪评分结果，最后得到最佳参数组合。网格搜索时，如果不使用交叉验证，有可能因为在这一次数据分割后引起的性能表现方差过大而对最佳参数组合产生误判。GridSearchCV中的'cv_results'属性能告诉我们每个参数组合所生成训练模型的mean_fit_time, mean_score_time, mean_test_score, mean_train_score。**"
   ]
  },
  {
   "cell_type": "markdown",
   "metadata": {},
   "source": [
    "### 练习：训练模型\n",
    "在最后一个练习中，你将需要将所学到的内容整合，使用**决策树演算法**训练一个模型。为了保证你得出的是一个最优模型，你需要使用网格搜索法训练模型，以找到最佳的 `'max_depth'` 参数。你可以把`'max_depth'` 参数理解为决策树算法在做出预测前，允许其对数据提出问题的数量。决策树是**监督学习算法**中的一种。\n",
    "\n",
    "此外，你会发现你的实现使用的是 `ShuffleSplit()` 。它也是交叉验证的一种方式（见变量 `'cv_sets'`）。虽然这不是**问题8**中描述的 K-Fold 交叉验证，这个教程验证方法也很有用！这里 `ShuffleSplit()` 会创造10个(`'n_splits'`)混洗过的集合，每个集合中20%(`'test_size'`)的数据会被用作**验证集**。当你在实现的时候，想一想这跟 K-Fold 交叉验证有哪些相同点，哪些不同点？\n",
    "\n",
    "在下方 `fit_model` 函数中，你需要做的是：\n",
    "- 使用  `sklearn.tree` 中的 [`DecisionTreeRegressor`](http://scikit-learn.org/stable/modules/generated/sklearn.tree.DecisionTreeRegressor.html) 创建一个决策树的回归函数；\n",
    "  - 将这个回归函数储存到 `'regressor'` 变量中；\n",
    "- 为 `'max_depth'` 创造一个字典，它的值是从1至10的数组，并储存到 `'params'` 变量中；\n",
    "- 使用 `sklearn.metrics` 中的 [`make_scorer`](http://scikit-learn.org/stable/modules/generated/sklearn.metrics.make_scorer.html)  创建一个评分函数；\n",
    "  - 将 `performance_metric` 作为参数传至这个函数中；\n",
    "  - 将评分函数储存到 `'scoring_fnc'` 变量中；\n",
    "- 使用 `sklearn.model_selection` 中的 [`GridSearchCV`](http://scikit-learn.org/stable/modules/generated/sklearn.model_selection.GridSearchCV.html) 创建一个网格搜索对象；\n",
    "  - 将变量`'regressor'`, `'params'`, `'scoring_fnc'`, 和 `'cv_sets'` 作为参数传至这个对象中；\n",
    "  - 将 `GridSearchCV` 存到 `'grid'` 变量中。\n",
    "  \n",
    "如果有同学对python函数如何传递多个参数不熟悉，可以参考这个MIT课程的[视频](http://cn-static.udacity.com/mlnd/videos/MIT600XXT114-V004200_DTH.mp4)。"
   ]
  },
  {
   "cell_type": "code",
   "execution_count": 40,
   "metadata": {},
   "outputs": [],
   "source": [
    "# TODO: Import 'make_scorer', 'DecisionTreeRegressor', and 'GridSearchCV'\n",
    "from sklearn.tree import DecisionTreeRegressor\n",
    "from sklearn.metrics import make_scorer\n",
    "from sklearn.model_selection import GridSearchCV\n",
    "\n",
    "def fit_model(X, y):\n",
    "    \"\"\" Performs grid search over the 'max_depth' parameter for a \n",
    "        decision tree regressor trained on the input data [X, y]. \"\"\"\n",
    "    \n",
    "    # Create cross-validation sets from the training data\n",
    "    cv_sets = ShuffleSplit(n_splits = 10, test_size = 0.20, random_state = 0)\n",
    "\n",
    "    # TODO: Create a decision tree regressor object\n",
    "    regressor = DecisionTreeRegressor()\n",
    "\n",
    "    # TODO: Create a dictionary for the parameter 'max_depth' with a range from 1 to 10\n",
    "    params = {'max_depth':range(1,11)}\n",
    "\n",
    "    # TODO: Transform 'performance_metric' into a scoring function using 'make_scorer' \n",
    "    scoring_fnc = make_scorer(performance_metric)\n",
    "\n",
    "    # TODO: Create the grid search object\n",
    "    grid = GridSearchCV(regressor,params,scoring_fnc,cv=cv_sets)\n",
    "\n",
    "    # Fit the grid search object to the data to compute the optimal model\n",
    "    grid = grid.fit(X, y)\n",
    "    # Return the optimal model after fitting the data\n",
    "    print pd.DataFrame(grid.cv_results_)\n",
    "    return grid.best_estimator_"
   ]
  },
  {
   "cell_type": "markdown",
   "metadata": {},
   "source": [
    "### 做出预测\n",
    "当我们用数据训练出一个模型，它现在就可用于对新的数据进行预测。在决策树回归函数中，模型已经学会对新输入的数据*提问*，并返回对**目标变量**的预测值。你可以用这个预测来获取数据未知目标变量的信息，这些数据必须是不包含在训练数据之内的。"
   ]
  },
  {
   "cell_type": "markdown",
   "metadata": {},
   "source": [
    "### 问题 9- 最优模型\n",
    "*最优模型的最大深度（maximum depth）是多少？此答案与你在**问题 6**所做的猜测是否相同？*\n",
    "\n",
    "运行下方区域内的代码，将决策树回归函数代入训练数据的集合，以得到最优化的模型。"
   ]
  },
  {
   "cell_type": "code",
   "execution_count": 41,
   "metadata": {
    "scrolled": true
   },
   "outputs": [
    {
     "name": "stdout",
     "output_type": "stream",
     "text": [
      "   mean_fit_time  mean_score_time  mean_test_score  mean_train_score  \\\n",
      "0       0.001885         0.000425         0.392129          0.483836   \n",
      "1       0.001221         0.000452         0.634871          0.747639   \n",
      "2       0.001341         0.000434         0.745768          0.844988   \n",
      "3       0.001358         0.000440         0.774960          0.885693   \n",
      "4       0.001327         0.000394         0.768773          0.912979   \n",
      "5       0.001294         0.000411         0.752329          0.936308   \n",
      "6       0.001474         0.000423         0.744485          0.951859   \n",
      "7       0.001416         0.000413         0.747403          0.964410   \n",
      "8       0.001485         0.000401         0.734691          0.975019   \n",
      "9       0.001508         0.000403         0.714293          0.983816   \n",
      "\n",
      "  param_max_depth              params  rank_test_score  split0_test_score  \\\n",
      "0               1   {u'max_depth': 1}               10           0.365760   \n",
      "1               2   {u'max_depth': 2}                9           0.596456   \n",
      "2               3   {u'max_depth': 3}                5           0.774969   \n",
      "3               4   {u'max_depth': 4}                1           0.817556   \n",
      "4               5   {u'max_depth': 5}                2           0.809264   \n",
      "5               6   {u'max_depth': 6}                3           0.822616   \n",
      "6               7   {u'max_depth': 7}                6           0.806559   \n",
      "7               8   {u'max_depth': 8}                4           0.782179   \n",
      "8               9   {u'max_depth': 9}                7           0.733282   \n",
      "9              10  {u'max_depth': 10}                8           0.756334   \n",
      "\n",
      "   split0_train_score  split1_test_score       ...         split7_test_score  \\\n",
      "0            0.494920           0.506323       ...                  0.464083   \n",
      "1            0.757492           0.614495       ...                  0.692579   \n",
      "2            0.850413           0.693715       ...                  0.782613   \n",
      "3            0.886416           0.737908       ...                  0.809608   \n",
      "4            0.914372           0.731438       ...                  0.754939   \n",
      "5            0.936452           0.723034       ...                  0.772003   \n",
      "6            0.951978           0.703002       ...                  0.776426   \n",
      "7            0.967520           0.677175       ...                  0.786095   \n",
      "8            0.978612           0.693488       ...                  0.772092   \n",
      "9            0.985003           0.648560       ...                  0.753366   \n",
      "\n",
      "   split7_train_score  split8_test_score  split8_train_score  \\\n",
      "0            0.470004           0.445820            0.477934   \n",
      "1            0.736069           0.711943            0.736275   \n",
      "2            0.846502           0.797697            0.820089   \n",
      "3            0.883435           0.842435            0.879544   \n",
      "4            0.910018           0.825644            0.906534   \n",
      "5            0.928474           0.708549            0.936669   \n",
      "6            0.940089           0.684623            0.953190   \n",
      "7            0.951211           0.682873            0.965829   \n",
      "8            0.972013           0.790936            0.975057   \n",
      "9            0.982072           0.670927            0.982935   \n",
      "\n",
      "   split9_test_score  split9_train_score  std_fit_time  std_score_time  \\\n",
      "0           0.498009            0.465878      0.002250        0.000059   \n",
      "1           0.732999            0.731321      0.000133        0.000091   \n",
      "2           0.823970            0.840389      0.000223        0.000045   \n",
      "3           0.863965            0.873586      0.000153        0.000055   \n",
      "4           0.865176            0.902322      0.000316        0.000032   \n",
      "5           0.832388            0.927806      0.000100        0.000049   \n",
      "6           0.827274            0.942762      0.000187        0.000082   \n",
      "7           0.862802            0.957175      0.000228        0.000047   \n",
      "8           0.829823            0.966902      0.000123        0.000036   \n",
      "9           0.823663            0.978846      0.000157        0.000037   \n",
      "\n",
      "   std_test_score  std_train_score  \n",
      "0        0.092093         0.015304  \n",
      "1        0.082542         0.012023  \n",
      "2        0.061701         0.012075  \n",
      "3        0.060505         0.007820  \n",
      "4        0.055391         0.007877  \n",
      "5        0.053951         0.007884  \n",
      "6        0.064945         0.008504  \n",
      "7        0.063571         0.007390  \n",
      "8        0.062471         0.005264  \n",
      "9        0.063995         0.003388  \n",
      "\n",
      "[10 rows x 31 columns]\n",
      "Parameter 'max_depth' is 4 for the optimal model.\n"
     ]
    }
   ],
   "source": [
    "# Fit the training data to the model using grid search\n",
    "reg = fit_model(X_train, y_train)\n",
    "\n",
    "# Produce the value for 'max_depth'\n",
    "print \"Parameter 'max_depth' is {} for the optimal model.\".format(reg.get_params()['max_depth'])"
   ]
  },
  {
   "cell_type": "markdown",
   "metadata": {},
   "source": [
    "**Answer:最优模型的最大深度（maximum depth）是4。和我问题6所做猜测相同。**"
   ]
  },
  {
   "cell_type": "markdown",
   "metadata": {},
   "source": [
    "### 问题 10 - 预测销售价格\n",
    "想像你是一个在波士顿地区的房屋经纪人，并期待使用此模型以帮助你的客户评估他们想出售的房屋。你已经从你的三个客户收集到以下的资讯:\n",
    "\n",
    "| 特征 | 客戶 1 | 客戶 2 | 客戶 3 |\n",
    "| :---: | :---: | :---: | :---: |\n",
    "| 房屋内房间总数 | 5 间房间 | 4 间房间 | 8 间房间 |\n",
    "| 社区贫困指数（％被认为是贫困阶层） | 17% | 32% | 3% |\n",
    "| 邻近学校的学生-老师比例 | 15：1 | 22：1 | 12：1 |\n",
    "\n",
    "*你会建议每位客户的房屋销售的价格为多少？从房屋特征的数值判断，这样的价格合理吗？为什么？* \n",
    "\n",
    "**提示：**用你在**分析数据**部分计算出来的统计信息来帮助你证明你的答案。\n",
    "\n",
    "运行下列的代码区域，使用你优化的模型来为每位客户的房屋价值做出预测。"
   ]
  },
  {
   "cell_type": "code",
   "execution_count": 26,
   "metadata": {},
   "outputs": [
    {
     "name": "stdout",
     "output_type": "stream",
     "text": [
      "Predicted selling price for Client 1's home: $391,183.33\n",
      "Predicted selling price for Client 2's home: $189,123.53\n",
      "Predicted selling price for Client 3's home: $942,666.67\n"
     ]
    }
   ],
   "source": [
    "# Produce a matrix for client data\n",
    "client_data = [[5, 17, 15], # Client 1\n",
    "               [4, 32, 22], # Client 2\n",
    "               [8, 3, 12]]  # Client 3\n",
    "\n",
    "# Show predictions\n",
    "for i, price in enumerate(reg.predict(client_data)):\n",
    "    print \"Predicted selling price for Client {}'s home: ${:,.2f}\".format(i+1, price)"
   ]
  },
  {
   "cell_type": "markdown",
   "metadata": {},
   "source": [
    "**答案:分别是391,183.33，189,123.53，942,666.67。而在之前分析数据部分统计有最小价格为105,000.00，最大价格为1,024,800.00。此处建议的三个价格，均落在该范围内，故认为价格合理。**"
   ]
  },
  {
   "cell_type": "markdown",
   "metadata": {},
   "source": [
    "### 敏感度\n",
    "\n",
    "一个最优的模型不一定是一个健壮模型。有的时候模型会过于复杂或者过于简单，以致于难以泛化新增添的数据；有的时候模型采用的学习算法并不适用于特定的数据结构；有的时候样本本身可能有太多噪点或样本过少，使得模型无法准确地预测目标变量。这些情况下我们会说模型是欠拟合的。执行下方区域中的代码，采用不同的训练和测试集执行 `fit_model` 函数10次。注意观察对一个特定的客户来说，预测是如何随训练数据的变化而变化的。"
   ]
  },
  {
   "cell_type": "code",
   "execution_count": 11,
   "metadata": {},
   "outputs": [
    {
     "name": "stdout",
     "output_type": "stream",
     "text": [
      "Trial 1: $391,183.33\n",
      "Trial 2: $419,700.00\n",
      "Trial 3: $415,800.00\n",
      "Trial 4: $420,622.22\n",
      "Trial 5: $413,334.78\n",
      "Trial 6: $411,931.58\n",
      "Trial 7: $399,663.16\n",
      "Trial 8: $407,232.00\n",
      "Trial 9: $351,577.61\n",
      "Trial 10: $413,700.00\n",
      "\n",
      "Range in prices: $69,044.61\n"
     ]
    }
   ],
   "source": [
    "# 如果你在 fit_model 函数里使用了 print pd.DataFrame(grid.cv_results_) 请注释掉这行之后再运行本代码\n",
    "vs.PredictTrials(features, prices, fit_model, client_data)"
   ]
  },
  {
   "cell_type": "markdown",
   "metadata": {},
   "source": [
    "### 问题 11 - 实用性探讨\n",
    "*简单地讨论一下你建构的模型能否在现实世界中使用？* \n",
    "\n",
    "**提示：** 回答几个问题，并给出相应结论的理由：\n",
    "- *1978年所采集的数据，在今天是否仍然适用？*\n",
    "- *数据中呈现的特征是否足够描述一个房屋？*\n",
    "- *模型是否足够健壮来保证预测的一致性？你需要参考上面敏感度部分的结果来解释你的结论。*\n",
    "- *在波士顿这样的大都市采集的数据，能否应用在其它乡镇地区？*"
   ]
  },
  {
   "cell_type": "markdown",
   "metadata": {},
   "source": [
    "**答案: （1）我认为1978年的数据在今天不能适用，毕竟许多条件都随时间跨度产生变化。不过，所反映的房价随特征变化的趋势，或许仍然有参考意义\n",
    "（2）数据中呈现的特征当然是不足够描述一个房屋，还有许多特征比如整修情况，建筑年份等等（3）模型不是足够健壮来保证预测的一致性。因为如上面敏感度分析可见，预测结果还是有波动的。有可能时因为样本噪点过多，也有可能因为模型过于简单，或者样本过少等等。（4）在波士顿这样的大都市采集的数据，不能直接应用在其它乡镇地区，因为有可能在乡镇地区这些特征的影响情况都发生改变。**"
   ]
  },
  {
   "cell_type": "markdown",
   "metadata": {},
   "source": [
    "### 可选问题 - 预测北京房价\n",
    "\n",
    "（本题结果不影响项目是否通过）通过上面的实践，相信你对机器学习的一些常用概念有了很好的领悟和掌握。但利用70年代的波士顿房价数据进行建模的确对我们来说意义不是太大。现在你可以把你上面所学应用到北京房价数据集中`bj_housing.csv`。\n",
    "\n",
    "免责声明：考虑到北京房价受到宏观经济、政策调整等众多因素的直接影响，预测结果仅供参考。\n",
    "\n",
    "这个数据集的特征有：\n",
    "- Area：房屋面积，平方米\n",
    "- Room：房间数，间\n",
    "- Living: 厅数，间\n",
    "- School: 是否为学区房，0或1\n",
    "- Year: 房屋建造时间，年\n",
    "- Floor: 房屋所处楼层，层\n",
    "\n",
    "目标变量：\n",
    "- Value: 房屋人民币售价，万\n",
    "\n",
    "你可以参考上面学到的内容，拿这个数据集来练习数据分割与重排、定义衡量标准、训练模型、评价模型表现、使用网格搜索配合交叉验证对参数进行调优并选出最佳参数，比较两者的差别，最终得出最佳模型对验证集的预测分数。"
   ]
  },
  {
   "cell_type": "code",
   "execution_count": 44,
   "metadata": {},
   "outputs": [
    {
     "name": "stdout",
     "output_type": "stream",
     "text": [
      "    mean_fit_time  mean_score_time  mean_test_score  mean_train_score  \\\n",
      "0        0.003670         0.000676         0.315948          0.291897   \n",
      "1        0.004302         0.000790         0.430480          0.512129   \n",
      "2        0.005091         0.000650         0.559129          0.648983   \n",
      "3        0.006081         0.000733         0.553035          0.684836   \n",
      "4        0.007082         0.000796         0.569674          0.720337   \n",
      "5        0.007901         0.000813         0.589006          0.755062   \n",
      "6        0.009090         0.000941         0.571219          0.781498   \n",
      "7        0.010664         0.001000         0.575100          0.808339   \n",
      "8        0.011700         0.001140         0.582047          0.833724   \n",
      "9        0.012347         0.001041         0.586911          0.857693   \n",
      "10       0.012842         0.001026         0.592027          0.882575   \n",
      "11       0.013943         0.001053         0.578223          0.907017   \n",
      "12       0.014648         0.001074         0.566795          0.928311   \n",
      "13       0.015730         0.001230         0.562057          0.946485   \n",
      "14       0.016367         0.001110         0.601332          0.961321   \n",
      "15       0.017070         0.001233         0.567464          0.972539   \n",
      "16       0.017916         0.001298         0.614823          0.980475   \n",
      "17       0.018468         0.001224         0.586609          0.985759   \n",
      "18       0.018794         0.001330         0.592146          0.989274   \n",
      "19       0.018939         0.001281         0.582670          0.991542   \n",
      "20       0.019276         0.001279         0.616101          0.992822   \n",
      "21       0.019374         0.001423         0.598172          0.993578   \n",
      "22       0.019212         0.001358         0.596822          0.993971   \n",
      "23       0.019583         0.001325         0.605454          0.994179   \n",
      "24       0.019222         0.001248         0.619669          0.994271   \n",
      "25       0.019274         0.001406         0.563450          0.994335   \n",
      "26       0.019268         0.001298         0.623269          0.994351   \n",
      "27       0.019333         0.001250         0.607386          0.994361   \n",
      "28       0.019216         0.001439         0.580034          0.994364   \n",
      "29       0.019560         0.001293         0.578011          0.994365   \n",
      "30       0.019367         0.001366         0.567786          0.994365   \n",
      "31       0.019288         0.001302         0.599783          0.994365   \n",
      "32       0.019232         0.001464         0.590453          0.994365   \n",
      "33       0.019375         0.001299         0.599069          0.994365   \n",
      "34       0.019185         0.001315         0.608085          0.994365   \n",
      "35       0.019131         0.001374         0.611637          0.994365   \n",
      "36       0.019282         0.001283         0.569459          0.994365   \n",
      "37       0.019198         0.001289         0.580971          0.994365   \n",
      "38       0.019165         0.001212         0.604256          0.994365   \n",
      "39       0.019023         0.001258         0.601747          0.994365   \n",
      "40       0.019070         0.001405         0.590417          0.994365   \n",
      "41       0.019269         0.001256         0.592480          0.994365   \n",
      "42       0.019049         0.001275         0.614979          0.994365   \n",
      "43       0.019195         0.001352         0.619174          0.994365   \n",
      "44       0.019378         0.001336         0.611004          0.994365   \n",
      "45       0.018980         0.001306         0.582314          0.994365   \n",
      "46       0.019285         0.001244         0.574889          0.994365   \n",
      "47       0.019331         0.001448         0.588583          0.994365   \n",
      "48       0.019107         0.001227         0.572156          0.994365   \n",
      "49       0.019499         0.001368         0.552850          0.994365   \n",
      "\n",
      "   param_max_depth              params  rank_test_score  split0_test_score  \\\n",
      "0                1   {u'max_depth': 1}               50           0.335226   \n",
      "1                2   {u'max_depth': 2}               49           0.348949   \n",
      "2                3   {u'max_depth': 3}               46           0.514691   \n",
      "3                4   {u'max_depth': 4}               47           0.283952   \n",
      "4                5   {u'max_depth': 5}               39           0.529971   \n",
      "5                6   {u'max_depth': 6}               24           0.478256   \n",
      "6                7   {u'max_depth': 7}               38           0.231784   \n",
      "7                8   {u'max_depth': 8}               35           0.515648   \n",
      "8                9   {u'max_depth': 9}               30           0.486386   \n",
      "9               10  {u'max_depth': 10}               26           0.554422   \n",
      "10              11  {u'max_depth': 11}               21           0.478926   \n",
      "11              12  {u'max_depth': 12}               33           0.298837   \n",
      "12              13  {u'max_depth': 13}               43           0.245541   \n",
      "13              14  {u'max_depth': 14}               45           0.264997   \n",
      "14              15  {u'max_depth': 15}               14           0.477163   \n",
      "15              16  {u'max_depth': 16}               42           0.251073   \n",
      "16              17  {u'max_depth': 17}                6           0.528237   \n",
      "17              18  {u'max_depth': 18}               27           0.270971   \n",
      "18              19  {u'max_depth': 19}               20           0.258006   \n",
      "19              20  {u'max_depth': 20}               28           0.252461   \n",
      "20              21  {u'max_depth': 21}                4           0.507707   \n",
      "21              22  {u'max_depth': 22}               17           0.522253   \n",
      "22              23  {u'max_depth': 23}               18           0.310359   \n",
      "23              24  {u'max_depth': 24}               11           0.537118   \n",
      "24              25  {u'max_depth': 25}                2           0.531454   \n",
      "25              26  {u'max_depth': 26}               44           0.253994   \n",
      "26              27  {u'max_depth': 27}                1           0.536822   \n",
      "27              28  {u'max_depth': 28}               10           0.546682   \n",
      "28              29  {u'max_depth': 29}               32           0.270047   \n",
      "29              30  {u'max_depth': 30}               34           0.296846   \n",
      "30              31  {u'max_depth': 31}               41           0.292241   \n",
      "31              32  {u'max_depth': 32}               15           0.509054   \n",
      "32              33  {u'max_depth': 33}               22           0.520684   \n",
      "33              34  {u'max_depth': 34}               16           0.561325   \n",
      "34              35  {u'max_depth': 35}                9           0.516029   \n",
      "35              36  {u'max_depth': 36}                7           0.521128   \n",
      "36              37  {u'max_depth': 37}               40           0.248501   \n",
      "37              38  {u'max_depth': 38}               31           0.500453   \n",
      "38              39  {u'max_depth': 39}               12           0.509888   \n",
      "39              40  {u'max_depth': 40}               13           0.556640   \n",
      "40              41  {u'max_depth': 41}               23           0.271289   \n",
      "41              42  {u'max_depth': 42}               19           0.508907   \n",
      "42              43  {u'max_depth': 43}                5           0.521554   \n",
      "43              44  {u'max_depth': 44}                3           0.507116   \n",
      "44              45  {u'max_depth': 45}                8           0.482851   \n",
      "45              46  {u'max_depth': 46}               29           0.549882   \n",
      "46              47  {u'max_depth': 47}               36           0.297816   \n",
      "47              48  {u'max_depth': 48}               25           0.301448   \n",
      "48              49  {u'max_depth': 49}               37           0.276869   \n",
      "49              50  {u'max_depth': 50}               48           0.291533   \n",
      "\n",
      "    split0_train_score  split1_test_score       ...         split7_test_score  \\\n",
      "0             0.287248           0.315833       ...                  0.256206   \n",
      "1             0.529661           0.401934       ...                  0.426956   \n",
      "2             0.662948           0.481209       ...                  0.675715   \n",
      "3             0.699198           0.513454       ...                  0.651832   \n",
      "4             0.731083           0.512487       ...                  0.639348   \n",
      "5             0.756986           0.518647       ...                  0.656388   \n",
      "6             0.786048           0.517990       ...                  0.663068   \n",
      "7             0.811546           0.387084       ...                  0.632160   \n",
      "8             0.833987           0.363777       ...                  0.631875   \n",
      "9             0.854327           0.358219       ...                  0.672150   \n",
      "10            0.877016           0.364800       ...                  0.643245   \n",
      "11            0.900101           0.503989       ...                  0.667494   \n",
      "12            0.923017           0.348314       ...                  0.667099   \n",
      "13            0.943486           0.381310       ...                  0.655180   \n",
      "14            0.959485           0.508734       ...                  0.639480   \n",
      "15            0.971545           0.372288       ...                  0.671496   \n",
      "16            0.979710           0.509795       ...                  0.657327   \n",
      "17            0.985879           0.485111       ...                  0.673398   \n",
      "18            0.989500           0.466999       ...                  0.686626   \n",
      "19            0.991532           0.500020       ...                  0.683660   \n",
      "20            0.992656           0.469492       ...                  0.688626   \n",
      "21            0.993925           0.455935       ...                  0.675631   \n",
      "22            0.994463           0.512161       ...                  0.683856   \n",
      "23            0.994856           0.361257       ...                  0.683917   \n",
      "24            0.994983           0.519754       ...                  0.647965   \n",
      "25            0.995048           0.369380       ...                  0.671948   \n",
      "26            0.995068           0.528352       ...                  0.685859   \n",
      "27            0.995071           0.347088       ...                  0.662977   \n",
      "28            0.995071           0.475155       ...                  0.646997   \n",
      "29            0.995071           0.302233       ...                  0.651211   \n",
      "30            0.995071           0.299596       ...                  0.675259   \n",
      "31            0.995071           0.471490       ...                  0.657895   \n",
      "32            0.995071           0.317708       ...                  0.690082   \n",
      "33            0.995071           0.290362       ...                  0.678598   \n",
      "34            0.995071           0.503064       ...                  0.650134   \n",
      "35            0.995071           0.499801       ...                  0.662291   \n",
      "36            0.995071           0.377593       ...                  0.647431   \n",
      "37            0.995071           0.343135       ...                  0.684685   \n",
      "38            0.995071           0.484695       ...                  0.681614   \n",
      "39            0.995071           0.556532       ...                  0.645023   \n",
      "40            0.995071           0.497927       ...                  0.651624   \n",
      "41            0.995071           0.312438       ...                  0.687048   \n",
      "42            0.995071           0.507452       ...                  0.693724   \n",
      "43            0.995071           0.455001       ...                  0.692260   \n",
      "44            0.995071           0.495270       ...                  0.646180   \n",
      "45            0.995071           0.333412       ...                  0.687660   \n",
      "46            0.995071           0.326929       ...                  0.650656   \n",
      "47            0.995071           0.468445       ...                  0.647095   \n",
      "48            0.995071           0.307597       ...                  0.671395   \n",
      "49            0.995071           0.341413       ...                  0.638008   \n",
      "\n",
      "    split7_train_score  split8_test_score  split8_train_score  \\\n",
      "0             0.306675           0.334221            0.288833   \n",
      "1             0.512908           0.394714            0.515552   \n",
      "2             0.620993           0.533503            0.654173   \n",
      "3             0.678308           0.539977            0.687959   \n",
      "4             0.718710           0.535059            0.730124   \n",
      "5             0.753927           0.588936            0.763702   \n",
      "6             0.783413           0.569533            0.786065   \n",
      "7             0.805945           0.594220            0.814359   \n",
      "8             0.824906           0.548347            0.839230   \n",
      "9             0.850284           0.562199            0.861820   \n",
      "10            0.876412           0.594641            0.889562   \n",
      "11            0.903675           0.599024            0.911545   \n",
      "12            0.926751           0.523304            0.929928   \n",
      "13            0.944568           0.559132            0.945979   \n",
      "14            0.958628           0.567328            0.960217   \n",
      "15            0.970282           0.527385            0.971100   \n",
      "16            0.978616           0.544443            0.979370   \n",
      "17            0.984252           0.544141            0.984879   \n",
      "18            0.987720           0.582791            0.988408   \n",
      "19            0.990479           0.537786            0.990921   \n",
      "20            0.992311           0.576822            0.991984   \n",
      "21            0.993387           0.575412            0.992945   \n",
      "22            0.994164           0.588328            0.993471   \n",
      "23            0.994271           0.540338            0.993955   \n",
      "24            0.994286           0.584161            0.994278   \n",
      "25            0.994349           0.549235            0.994443   \n",
      "26            0.994367           0.582438            0.994511   \n",
      "27            0.994367           0.591376            0.994529   \n",
      "28            0.994367           0.549756            0.994550   \n",
      "29            0.994367           0.591083            0.994557   \n",
      "30            0.994367           0.545237            0.994557   \n",
      "31            0.994367           0.537370            0.994557   \n",
      "32            0.994367           0.547875            0.994557   \n",
      "33            0.994367           0.533252            0.994557   \n",
      "34            0.994367           0.537444            0.994557   \n",
      "35            0.994367           0.543865            0.994557   \n",
      "36            0.994367           0.536517            0.994557   \n",
      "37            0.994367           0.549803            0.994557   \n",
      "38            0.994367           0.530522            0.994557   \n",
      "39            0.994367           0.524383            0.994557   \n",
      "40            0.994367           0.546338            0.994557   \n",
      "41            0.994367           0.576821            0.994557   \n",
      "42            0.994367           0.581994            0.994557   \n",
      "43            0.994367           0.597467            0.994557   \n",
      "44            0.994367           0.579999            0.994557   \n",
      "45            0.994367           0.541791            0.994557   \n",
      "46            0.994367           0.585191            0.994557   \n",
      "47            0.994367           0.532486            0.994557   \n",
      "48            0.994367           0.586575            0.994557   \n",
      "49            0.994367           0.594519            0.994557   \n",
      "\n",
      "    split9_test_score  split9_train_score  std_fit_time  std_score_time  \\\n",
      "0            0.309459            0.292297      0.001255        0.000091   \n",
      "1            0.458145            0.511172      0.000184        0.000145   \n",
      "2            0.566768            0.654452      0.000485        0.000076   \n",
      "3            0.595118            0.684551      0.000311        0.000144   \n",
      "4            0.619256            0.714335      0.000282        0.000100   \n",
      "5            0.645014            0.745904      0.000269        0.000094   \n",
      "6            0.653114            0.768095      0.000467        0.000110   \n",
      "7            0.625164            0.796239      0.000812        0.000144   \n",
      "8            0.623030            0.822083      0.000493        0.000171   \n",
      "9            0.654135            0.847080      0.000672        0.000116   \n",
      "10           0.666745            0.874049      0.000452        0.000119   \n",
      "11           0.648598            0.904430      0.000387        0.000121   \n",
      "12           0.678518            0.926794      0.000536        0.000100   \n",
      "13           0.674799            0.946387      0.000542        0.000217   \n",
      "14           0.642373            0.961707      0.000336        0.000082   \n",
      "15           0.660025            0.972897      0.000205        0.000185   \n",
      "16           0.671572            0.980401      0.000563        0.000224   \n",
      "17           0.678832            0.985563      0.000350        0.000164   \n",
      "18           0.682306            0.988910      0.000463        0.000202   \n",
      "19           0.652673            0.991102      0.000190        0.000172   \n",
      "20           0.651122            0.992351      0.000443        0.000138   \n",
      "21           0.661777            0.993036      0.000418        0.000330   \n",
      "22           0.658685            0.993340      0.000670        0.000224   \n",
      "23           0.699449            0.993580      0.000733        0.000106   \n",
      "24           0.663729            0.993656      0.000400        0.000093   \n",
      "25           0.696935            0.993709      0.000483        0.000310   \n",
      "26           0.665608            0.993723      0.000389        0.000100   \n",
      "27           0.685586            0.993727      0.000239        0.000080   \n",
      "28           0.656785            0.993727      0.000498        0.000393   \n",
      "29           0.688120            0.993727      0.000569        0.000118   \n",
      "30           0.656989            0.993727      0.000691        0.000168   \n",
      "31           0.658111            0.993727      0.000371        0.000110   \n",
      "32           0.654744            0.993727      0.000359        0.000308   \n",
      "33           0.688338            0.993727      0.000358        0.000163   \n",
      "34           0.658028            0.993727      0.000540        0.000193   \n",
      "35           0.648133            0.993727      0.000616        0.000217   \n",
      "36           0.702484            0.993727      0.000910        0.000159   \n",
      "37           0.657957            0.993727      0.000406        0.000126   \n",
      "38           0.663050            0.993727      0.000526        0.000093   \n",
      "39           0.697767            0.993727      0.000309        0.000078   \n",
      "40           0.663404            0.993727      0.000516        0.000316   \n",
      "41           0.662568            0.993727      0.000584        0.000101   \n",
      "42           0.653307            0.993727      0.000541        0.000206   \n",
      "43           0.702465            0.993727      0.000568        0.000319   \n",
      "44           0.692921            0.993727      0.000733        0.000144   \n",
      "45           0.682529            0.993727      0.000383        0.000154   \n",
      "46           0.661935            0.993727      0.000731        0.000120   \n",
      "47           0.687437            0.993727      0.000665        0.000306   \n",
      "48           0.655119            0.993727      0.000236        0.000074   \n",
      "49           0.667690            0.993727      0.000488        0.000189   \n",
      "\n",
      "    std_test_score  std_train_score  \n",
      "0         0.026879         0.006267  \n",
      "1         0.042471         0.007586  \n",
      "2         0.058484         0.012878  \n",
      "3         0.099211         0.008402  \n",
      "4         0.043393         0.008355  \n",
      "5         0.054813         0.007102  \n",
      "6         0.122530         0.006984  \n",
      "7         0.089500         0.007719  \n",
      "8         0.092916         0.006799  \n",
      "9         0.103194         0.005778  \n",
      "10        0.094756         0.005383  \n",
      "11        0.110497         0.004545  \n",
      "12        0.147559         0.003372  \n",
      "13        0.135490         0.002742  \n",
      "14        0.064702         0.002137  \n",
      "15        0.138346         0.001758  \n",
      "16        0.067633         0.001530  \n",
      "17        0.123131         0.001197  \n",
      "18        0.130174         0.000913  \n",
      "19        0.126363         0.000723  \n",
      "20        0.076123         0.000607  \n",
      "21        0.079972         0.000461  \n",
      "22        0.109884         0.000395  \n",
      "23        0.102173         0.000368  \n",
      "24        0.058693         0.000367  \n",
      "25        0.141934         0.000382  \n",
      "26        0.062126         0.000383  \n",
      "27        0.098590         0.000374  \n",
      "28        0.121791         0.000375  \n",
      "29        0.145130         0.000375  \n",
      "30        0.144084         0.000375  \n",
      "31        0.069534         0.000375  \n",
      "32        0.105639         0.000375  \n",
      "33        0.117102         0.000375  \n",
      "34        0.065308         0.000375  \n",
      "35        0.068239         0.000375  \n",
      "36        0.140521         0.000375  \n",
      "37        0.105584         0.000375  \n",
      "38        0.071557         0.000375  \n",
      "39        0.061831         0.000375  \n",
      "40        0.122745         0.000375  \n",
      "41        0.106976         0.000375  \n",
      "42        0.062335         0.000375  \n",
      "43        0.082094         0.000375  \n",
      "44        0.076473         0.000375  \n",
      "45        0.100330         0.000375  \n",
      "46        0.136221         0.000375  \n",
      "47        0.119464         0.000375  \n",
      "48        0.144666         0.000375  \n",
      "49        0.126426         0.000375  \n",
      "\n",
      "[50 rows x 31 columns]\n",
      "Parameter 'max_depth' is 27 for the optimal model.\n"
     ]
    }
   ],
   "source": [
    "# Import libraries necessary for this project\n",
    "# 载入此项目所需要的库\n",
    "import numpy as np\n",
    "import pandas as pd\n",
    "import visuals as vs # Supplementary code\n",
    "from sklearn.model_selection import ShuffleSplit\n",
    "\n",
    "# Pretty display for notebooks\n",
    "# 让结果在notebook中显示\n",
    "%matplotlib inline\n",
    "\n",
    "# Load the Beijing housing dataset\n",
    "# 载入北京房屋的数据集\n",
    "data_B = pd.read_csv('bj_housing.csv')\n",
    "prices_B = data_B['Value']\n",
    "features_B = data_B.drop('Value', axis = 1)\n",
    "\n",
    "from sklearn.metrics import r2_score\n",
    "def performance_metric(y_true, y_predict):\n",
    "    \"\"\" Calculates and returns the performance score between \n",
    "        true and predicted values based on the metric chosen. \"\"\"\n",
    "    \n",
    "    # TODO: Calculate the performance score between 'y_true' and 'y_predict'\n",
    "    score = r2_score(y_true, y_predict)\n",
    "    \n",
    "    # Return the score\n",
    "    return score\n",
    "\n",
    "from sklearn.tree import DecisionTreeRegressor\n",
    "from sklearn.metrics import make_scorer\n",
    "from sklearn.model_selection import GridSearchCV\n",
    "\n",
    "def fit_model_B(X, y):\n",
    "    \"\"\" Performs grid search over the 'max_depth' parameter for a \n",
    "        decision tree regressor trained on the input data [X, y]. \"\"\"\n",
    "    \n",
    "    # Create cross-validation sets from the training data\n",
    "    cv_sets = ShuffleSplit(n_splits = 10, test_size = 0.20, random_state = 0)\n",
    "\n",
    "    # TODO: Create a decision tree regressor object\n",
    "    regressor = DecisionTreeRegressor()\n",
    "\n",
    "    # TODO: Create a dictionary for the parameter 'max_depth' with a range from 1 to 10\n",
    "    params = {'max_depth':range(1,51)}\n",
    "\n",
    "    # TODO: Transform 'performance_metric' into a scoring function using 'make_scorer' \n",
    "    scoring_fnc = make_scorer(performance_metric)\n",
    "\n",
    "    # TODO: Create the grid search object\n",
    "    grid = GridSearchCV(regressor,params,scoring_fnc,cv=cv_sets)\n",
    "\n",
    "    # Fit the grid search object to the data to compute the optimal model\n",
    "    grid = grid.fit(X, y)\n",
    "    # Return the optimal model after fitting the data\n",
    "    print pd.DataFrame(grid.cv_results_)\n",
    "    return grid.best_estimator_\n",
    "\n",
    "# Fit the training data to the model using grid search\n",
    "reg_B = fit_model_B(features_B, prices_B)\n",
    "\n",
    "# Produce the value for 'max_depth'\n",
    "print \"Parameter 'max_depth' is {} for the optimal model.\".format(reg_B.get_params()['max_depth'])\n"
   ]
  },
  {
   "cell_type": "markdown",
   "metadata": {},
   "source": [
    "你成功的用新的数据集构建了模型了吗？他能对测试数据进行验证吗？它的表现是否符合你的预期？交叉验证是否有助于提升你模型的表现？"
   ]
  },
  {
   "cell_type": "markdown",
   "metadata": {},
   "source": [
    "**答案：参照前文，我成功的建立了模型并使用了交叉验证。其中，为了获得最佳深度，我调整了params中至最大深度为50，最后获得最佳深度为27（多次运行会变化）。调出cv_results查看，发现虽然平均训练分数随深度增加，可以迅速达到0.9以上，然而平均测试分数徘徊在0.6附近。因此它的表现并不符合我的预期，觉得已经产生过拟合。在这种情况下交叉验证表现的提升能力有限。**"
   ]
  },
  {
   "cell_type": "markdown",
   "metadata": {},
   "source": [
    "如果你是从零开始构建机器学习的代码会让你一时觉得无从下手。这时不要着急，你要做的只是查看之前写的代码，把每一行都看明白，然后逐步构建你的模型。当中遇到什么问题也可以在我们论坛寻找答案。也许你会发现你所构建的模型的表现并没有达到你的预期，这说明机器学习并非是一项简单的任务，构建一个表现良好的模型需要长时间的研究和测试。这也是我们接下来的课程中会逐渐学到的。"
   ]
  }
 ],
 "metadata": {
  "kernelspec": {
   "display_name": "Python 2",
   "language": "python",
   "name": "python2"
  },
  "language_info": {
   "codemirror_mode": {
    "name": "ipython",
    "version": 2
   },
   "file_extension": ".py",
   "mimetype": "text/x-python",
   "name": "python",
   "nbconvert_exporter": "python",
   "pygments_lexer": "ipython2",
   "version": "2.7.13"
  }
 },
 "nbformat": 4,
 "nbformat_minor": 1
}
