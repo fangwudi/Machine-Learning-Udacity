{
 "cells": [
  {
   "cell_type": "code",
   "execution_count": 1,
   "metadata": {
    "collapsed": true
   },
   "outputs": [],
   "source": [
    "import numpy as np\n",
    "import pandas as pd"
   ]
  },
  {
   "cell_type": "code",
   "execution_count": 2,
   "metadata": {
    "collapsed": true
   },
   "outputs": [],
   "source": [
    "basedir ='/root/JupyterNotebook/distracted_driver_detection/result/'"
   ]
  },
  {
   "cell_type": "code",
   "execution_count": 8,
   "metadata": {
    "collapsed": false
   },
   "outputs": [],
   "source": [
    "modelname_list = ['Model1_ResNet50_DG1_L77','Model2_ResNet50_DG1_L109','Model3_ResNet50_DG3_L99', \\\n",
    "                  'Model4_InceptionV3_DG1_L133', 'Model5_InceptionV3_DG2_L133','Model6_InceptionV3_DG3_L165',\\\n",
    "                  'Model7_Xception_DG1_L86','Model8_Xception_DG2_L76','Model9_Xception_DG3_L76']"
   ]
  },
  {
   "cell_type": "code",
   "execution_count": 6,
   "metadata": {
    "collapsed": true
   },
   "outputs": [],
   "source": [
    "weight_list = [1,1,1,1,1,1,1,1,1]\n",
    "weight_sum = sum(weight_list)\n",
    "weight_norm = [x/weight_sum for x in weight_list]"
   ]
  },
  {
   "cell_type": "code",
   "execution_count": 9,
   "metadata": {
    "collapsed": false
   },
   "outputs": [],
   "source": [
    "for i, x in enumerate(modelname_list):\n",
    "    pre_submission = pd.read_csv(basedir+x+'.csv')\n",
    "    after_submission = pre_submission.drop('img',axis =1)*weight_norm[i]\n",
    "    if i == 0:\n",
    "        merge_submission = after_submission\n",
    "        img = pre_submission['img']\n",
    "    else:\n",
    "        merge_submission += after_submission"
   ]
  },
  {
   "cell_type": "code",
   "execution_count": 10,
   "metadata": {
    "collapsed": false
   },
   "outputs": [],
   "source": [
    "clip_submission = merge_submission.clip(0.001,1)"
   ]
  },
  {
   "cell_type": "code",
   "execution_count": 11,
   "metadata": {
    "collapsed": false
   },
   "outputs": [],
   "source": [
    "clip_submission.insert(0, 'img', img)"
   ]
  },
  {
   "cell_type": "code",
   "execution_count": 12,
   "metadata": {
    "collapsed": true
   },
   "outputs": [],
   "source": [
    "clip_submission.to_csv(basedir+'merge9.csv', index=False)"
   ]
  },
  {
   "cell_type": "code",
   "execution_count": null,
   "metadata": {
    "collapsed": true
   },
   "outputs": [],
   "source": []
  }
 ],
 "metadata": {
  "anaconda-cloud": {},
  "kernelspec": {
   "display_name": "Python [default]",
   "language": "python",
   "name": "python3"
  },
  "language_info": {
   "codemirror_mode": {
    "name": "ipython",
    "version": 3
   },
   "file_extension": ".py",
   "mimetype": "text/x-python",
   "name": "python",
   "nbconvert_exporter": "python",
   "pygments_lexer": "ipython3",
   "version": "3.5.2"
  }
 },
 "nbformat": 4,
 "nbformat_minor": 1
}
