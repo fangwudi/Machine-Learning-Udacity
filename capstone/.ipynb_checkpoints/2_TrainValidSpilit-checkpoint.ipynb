{
 "cells": [
  {
   "cell_type": "code",
   "execution_count": 50,
   "metadata": {
    "collapsed": true
   },
   "outputs": [],
   "source": [
    "basedir = \"/root/JupyterNotebook/distracted_driver_detection/input/\""
   ]
  },
  {
   "cell_type": "code",
   "execution_count": 51,
   "metadata": {
    "collapsed": true
   },
   "outputs": [],
   "source": [
    "import os\n",
    "import numpy as np\n",
    "import pandas as pd\n",
    "import shutil"
   ]
  },
  {
   "cell_type": "code",
   "execution_count": 55,
   "metadata": {
    "collapsed": false
   },
   "outputs": [],
   "source": [
    "#global\n",
    "df = pd.read_csv(basedir + \"driver_imgs_list.csv\")\n",
    "driver_list = list(df['subject'].unique()) #len 26"
   ]
  },
  {
   "cell_type": "code",
   "execution_count": 56,
   "metadata": {
    "collapsed": false
   },
   "outputs": [
    {
     "name": "stdout",
     "output_type": "stream",
     "text": [
      "['p002', 'p012', 'p014', 'p015', 'p016', 'p021', 'p022', 'p024', 'p026', 'p035', 'p039', 'p041', 'p042', 'p045', 'p047', 'p049', 'p050', 'p051', 'p052', 'p056', 'p061', 'p064', 'p066', 'p072', 'p075', 'p081']\n"
     ]
    }
   ],
   "source": [
    "print(driver_list)"
   ]
  },
  {
   "cell_type": "code",
   "execution_count": 53,
   "metadata": {
    "collapsed": false
   },
   "outputs": [],
   "source": [
    "def symlink_img(tv, subject_index):\n",
    "    \"\"\"\n",
    "    need global df and driver_list\n",
    "    \"\"\"\n",
    "    #check\n",
    "    if tv != 'train' and tv != 'valid':\n",
    "        print(\"Error:tv must be train or valid\")\n",
    "        return\n",
    "    #rebulid path\n",
    "    if os.path.exists(basedir + tv):\n",
    "        shutil.rmtree(basedir + tv)\n",
    "    os.mkdir(basedir + tv)\n",
    "    for i in range(10):\n",
    "        os.mkdir(basedir + tv + \"/c%d\"%i)\n",
    "    #symlink\n",
    "    for x in subject_index:\n",
    "        df_one = df[df[\"subject\"]==driver_list[x]]\n",
    "        for index, row in df_one.iterrows():\n",
    "            subpath = row[\"classname\"] + \"/\" + row[\"img\"]\n",
    "            src = basedir + \"train_all/\" + subpath \n",
    "            dst = basedir + tv + \"/\" + subpath\n",
    "            os.symlink(src, dst)\n",
    "    \n",
    "def symlink_train_vaild(valid_index):\n",
    "    train_index = list(set(range(26))-set(valid_index))\n",
    "    symlink_img('train', train_index)\n",
    "    symlink_img('valid', valid_index)"
   ]
  },
  {
   "cell_type": "code",
   "execution_count": null,
   "metadata": {
    "collapsed": true
   },
   "outputs": [],
   "source": []
  }
 ],
 "metadata": {
  "anaconda-cloud": {},
  "kernelspec": {
   "display_name": "Python [default]",
   "language": "python",
   "name": "python3"
  },
  "language_info": {
   "codemirror_mode": {
    "name": "ipython",
    "version": 3
   },
   "file_extension": ".py",
   "mimetype": "text/x-python",
   "name": "python",
   "nbconvert_exporter": "python",
   "pygments_lexer": "ipython3",
   "version": "3.5.2"
  }
 },
 "nbformat": 4,
 "nbformat_minor": 1
}
